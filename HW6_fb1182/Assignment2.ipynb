


| Statistical Analyses  | IV(s)|IV type(s)  | DV(s) |DV type(s) | Control Var  | Control Var type | Question to be answered | H0  | alpha | Link to paper|
| ------------- | ------------------ | ------------- | ------------------ | ------------- | --------------------- | ------------- | ------------- | -------------|  
| Correlation   | 1, Phobic Anxiety  | Categorical   | 1, Telomere length |Continuous  
