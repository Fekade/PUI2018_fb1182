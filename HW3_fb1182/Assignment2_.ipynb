{
 "cells": [
  {
   "cell_type": "code",
   "execution_count": 107,
   "metadata": {},
   "outputs": [],
   "source": [
    "# example of gathering, reading, and plotting data\n",
    "# For PUI in 2018\n",
    "# uses NYC data portal NYC OPEN DATA https://data.cityofnewyork.us/"
   ]
  },
  {
   "cell_type": "code",
   "execution_count": 108,
   "metadata": {},
   "outputs": [
    {
     "name": "stdout",
     "output_type": "stream",
     "text": [
      "Populating the interactive namespace from numpy and matplotlib\n"
     ]
    }
   ],
   "source": [
    "#importing all needed modules\n",
    "from __future__ import print_function #for compatibility beteen python2 and python3\n",
    "import os\n",
    "import pandas as pd\n",
    "%pylab inline"
   ]
  },
  {
   "cell_type": "code",
   "execution_count": 109,
   "metadata": {},
   "outputs": [
    {
     "name": "stdout",
     "output_type": "stream",
     "text": [
      "  % Total    % Received % Xferd  Average Speed   Time    Time     Time  Current\n",
      "                                 Dload  Upload   Total   Spent    Left  Speed\n",
      "100 6938k    0 6938k    0     0  1219k      0 --:--:--  0:00:05 --:--:-- 1275k\n"
     ]
    }
   ],
   "source": [
    "#get the data\n",
    "!curl https://data.cityofnewyork.us/api/views/2v9c-2k7f/rows.csv?accessType=DOWNLOAD > FHVBaseAggregateReport.csv"
   ]
  },
  {
   "cell_type": "code",
   "execution_count": 110,
   "metadata": {},
   "outputs": [
    {
     "name": "stdout",
     "output_type": "stream",
     "text": [
      "PUIdata /nfshome/fb1182/PUIdata\n"
     ]
    }
   ],
   "source": [
    "print(\"PUIdata\", os.getenv(\"PUIDATA\"))"
   ]
  },
  {
   "cell_type": "code",
   "execution_count": 111,
   "metadata": {},
   "outputs": [
    {
     "name": "stdout",
     "output_type": "stream",
     "text": [
      "PUIdata /nfshome/fb1182/PUIdata\n"
     ]
    }
   ],
   "source": [
    "#create the env variable if missing\n",
    "os.environ[\"PUIDATA\"] = \"%s/PUIdata\"%os.getenv(\"HOME\")\n",
    "print(\"PUIdata\", os.getenv(\"PUIDATA\"))"
   ]
  },
  {
   "cell_type": "code",
   "execution_count": 112,
   "metadata": {},
   "outputs": [],
   "source": [
    "#move the data\n",
    "!mv FHVBaseAggregateReport.csv $PUIDATA"
   ]
  },
  {
   "cell_type": "code",
   "execution_count": 119,
   "metadata": {},
   "outputs": [
    {
     "name": "stdout",
     "output_type": "stream",
     "text": [
      "FHVBaseAggregateReport.csv\r\n"
     ]
    }
   ],
   "source": [
    "#test if the data is there\n",
    "!ls $PUIDATA"
   ]
  },
  {
   "cell_type": "code",
   "execution_count": 120,
   "metadata": {},
   "outputs": [],
   "source": [
    "#read in the data with pandas\n",
    "fhv = pd.read_csv(\"%s/FHVBaseAggregateReport.csv\"%os.getenv(\"PUIDATA\"))"
   ]
  },
  {
   "cell_type": "code",
   "execution_count": 121,
   "metadata": {},
   "outputs": [
    {
     "data": {
      "text/html": [
       "<div>\n",
       "<table border=\"1\" class=\"dataframe\">\n",
       "  <thead>\n",
       "    <tr style=\"text-align: right;\">\n",
       "      <th></th>\n",
       "      <th>Base License Number</th>\n",
       "      <th>Wave Number</th>\n",
       "      <th>Base Name</th>\n",
       "      <th>DBA</th>\n",
       "      <th>Years</th>\n",
       "      <th>Week Number</th>\n",
       "      <th>Pickup Start Date</th>\n",
       "      <th>Pickup End Date</th>\n",
       "      <th>Total Dispatched Trips</th>\n",
       "      <th>Unique Dispatched Vehicle</th>\n",
       "    </tr>\n",
       "  </thead>\n",
       "  <tbody>\n",
       "    <tr>\n",
       "      <th>0</th>\n",
       "      <td>B02738</td>\n",
       "      <td>3</td>\n",
       "      <td>EXPLORER CAR SERVICE INC.</td>\n",
       "      <td>NaN</td>\n",
       "      <td>2016</td>\n",
       "      <td>41</td>\n",
       "      <td>10/02/2016</td>\n",
       "      <td>10/08/2016</td>\n",
       "      <td>205</td>\n",
       "      <td>11</td>\n",
       "    </tr>\n",
       "    <tr>\n",
       "      <th>1</th>\n",
       "      <td>B01013</td>\n",
       "      <td>3</td>\n",
       "      <td>AMERICANA TRANSPORTATION LLC</td>\n",
       "      <td>NaN</td>\n",
       "      <td>2017</td>\n",
       "      <td>24</td>\n",
       "      <td>06/11/2017</td>\n",
       "      <td>06/17/2017</td>\n",
       "      <td>319</td>\n",
       "      <td>7</td>\n",
       "    </tr>\n",
       "    <tr>\n",
       "      <th>2</th>\n",
       "      <td>B02835</td>\n",
       "      <td>4</td>\n",
       "      <td>DREIST NY LLC</td>\n",
       "      <td>UBER-DREIST NY LLC</td>\n",
       "      <td>2016</td>\n",
       "      <td>6</td>\n",
       "      <td>01/31/2016</td>\n",
       "      <td>02/06/2016</td>\n",
       "      <td>127076</td>\n",
       "      <td>2813</td>\n",
       "    </tr>\n",
       "    <tr>\n",
       "      <th>3</th>\n",
       "      <td>B01444</td>\n",
       "      <td>3</td>\n",
       "      <td>REGO PARK EXPRESS INC.</td>\n",
       "      <td>NaN</td>\n",
       "      <td>2015</td>\n",
       "      <td>40</td>\n",
       "      <td>09/27/2015</td>\n",
       "      <td>10/03/2015</td>\n",
       "      <td>874</td>\n",
       "      <td>21</td>\n",
       "    </tr>\n",
       "    <tr>\n",
       "      <th>4</th>\n",
       "      <td>B01424</td>\n",
       "      <td>3</td>\n",
       "      <td>EAGLE CAR &amp; LIMO LTD.</td>\n",
       "      <td>NaN</td>\n",
       "      <td>2017</td>\n",
       "      <td>40</td>\n",
       "      <td>10/01/2017</td>\n",
       "      <td>10/07/2017</td>\n",
       "      <td>61</td>\n",
       "      <td>2</td>\n",
       "    </tr>\n",
       "    <tr>\n",
       "      <th>5</th>\n",
       "      <td>B02554</td>\n",
       "      <td>3</td>\n",
       "      <td>IMMEDIATE LUXURY CAR &amp; LIMO SERVICE INC.</td>\n",
       "      <td>NaN</td>\n",
       "      <td>2017</td>\n",
       "      <td>19</td>\n",
       "      <td>05/07/2017</td>\n",
       "      <td>05/13/2017</td>\n",
       "      <td>10</td>\n",
       "      <td>8</td>\n",
       "    </tr>\n",
       "    <tr>\n",
       "      <th>6</th>\n",
       "      <td>B02881</td>\n",
       "      <td>4</td>\n",
       "      <td>DIANE CAR SERVICE INC.</td>\n",
       "      <td>DIANE CAR AND LIMO SERVICE</td>\n",
       "      <td>2017</td>\n",
       "      <td>50</td>\n",
       "      <td>12/10/2017</td>\n",
       "      <td>12/16/2017</td>\n",
       "      <td>2027</td>\n",
       "      <td>37</td>\n",
       "    </tr>\n",
       "  </tbody>\n",
       "</table>\n",
       "</div>"
      ],
      "text/plain": [
       "  Base License Number  Wave Number                                 Base Name  \\\n",
       "0              B02738            3                 EXPLORER CAR SERVICE INC.   \n",
       "1              B01013            3              AMERICANA TRANSPORTATION LLC   \n",
       "2              B02835            4                             DREIST NY LLC   \n",
       "3              B01444            3                    REGO PARK EXPRESS INC.   \n",
       "4              B01424            3                     EAGLE CAR & LIMO LTD.   \n",
       "5              B02554            3  IMMEDIATE LUXURY CAR & LIMO SERVICE INC.   \n",
       "6              B02881            4                    DIANE CAR SERVICE INC.   \n",
       "\n",
       "                          DBA  Years  Week Number Pickup Start Date  \\\n",
       "0                         NaN   2016           41        10/02/2016   \n",
       "1                         NaN   2017           24        06/11/2017   \n",
       "2          UBER-DREIST NY LLC   2016            6        01/31/2016   \n",
       "3                         NaN   2015           40        09/27/2015   \n",
       "4                         NaN   2017           40        10/01/2017   \n",
       "5                         NaN   2017           19        05/07/2017   \n",
       "6  DIANE CAR AND LIMO SERVICE   2017           50        12/10/2017   \n",
       "\n",
       "  Pickup End Date  Total Dispatched Trips  Unique Dispatched Vehicle  \n",
       "0      10/08/2016                     205                         11  \n",
       "1      06/17/2017                     319                          7  \n",
       "2      02/06/2016                  127076                       2813  \n",
       "3      10/03/2015                     874                         21  \n",
       "4      10/07/2017                      61                          2  \n",
       "5      05/13/2017                      10                          8  \n",
       "6      12/16/2017                    2027                         37  "
      ]
     },
     "execution_count": 121,
     "metadata": {},
     "output_type": "execute_result"
    }
   ],
   "source": [
    "#print the fist 7 lines out\n",
    "\n",
    "fhv.head(7)"
   ]
  },
  {
   "cell_type": "code",
   "execution_count": 123,
   "metadata": {},
   "outputs": [
    {
     "data": {
      "text/html": [
       "<div>\n",
       "<table border=\"1\" class=\"dataframe\">\n",
       "  <thead>\n",
       "    <tr style=\"text-align: right;\">\n",
       "      <th></th>\n",
       "      <th>Base License Number</th>\n",
       "      <th>Wave Number</th>\n",
       "      <th>Base Name</th>\n",
       "      <th>DBA</th>\n",
       "      <th>Years</th>\n",
       "      <th>Week Number</th>\n",
       "      <th>Pickup Start Date</th>\n",
       "      <th>Pickup End Date</th>\n",
       "      <th>Total Dispatched Trips</th>\n",
       "      <th>Unique Dispatched Vehicle</th>\n",
       "    </tr>\n",
       "  </thead>\n",
       "  <tbody>\n",
       "    <tr>\n",
       "      <th>92968</th>\n",
       "      <td>B02210</td>\n",
       "      <td>3</td>\n",
       "      <td>MURRAY CAR SERVICE, INC.</td>\n",
       "      <td>NaN</td>\n",
       "      <td>2015</td>\n",
       "      <td>29</td>\n",
       "      <td>07/12/2015</td>\n",
       "      <td>07/18/2015</td>\n",
       "      <td>107</td>\n",
       "      <td>12</td>\n",
       "    </tr>\n",
       "    <tr>\n",
       "      <th>92969</th>\n",
       "      <td>B00449</td>\n",
       "      <td>3</td>\n",
       "      <td>A KINGS HWY C/S INC.</td>\n",
       "      <td>NaN</td>\n",
       "      <td>2017</td>\n",
       "      <td>42</td>\n",
       "      <td>10/15/2017</td>\n",
       "      <td>10/21/2017</td>\n",
       "      <td>478</td>\n",
       "      <td>12</td>\n",
       "    </tr>\n",
       "    <tr>\n",
       "      <th>92970</th>\n",
       "      <td>B02878</td>\n",
       "      <td>4</td>\n",
       "      <td>ELF-NY,LLC</td>\n",
       "      <td>UBER-ELF-NY,LLC</td>\n",
       "      <td>2017</td>\n",
       "      <td>18</td>\n",
       "      <td>04/30/2017</td>\n",
       "      <td>05/06/2017</td>\n",
       "      <td>55881</td>\n",
       "      <td>1062</td>\n",
       "    </tr>\n",
       "  </tbody>\n",
       "</table>\n",
       "</div>"
      ],
      "text/plain": [
       "      Base License Number  Wave Number                 Base Name  \\\n",
       "92968              B02210            3  MURRAY CAR SERVICE, INC.   \n",
       "92969              B00449            3      A KINGS HWY C/S INC.   \n",
       "92970              B02878            4                ELF-NY,LLC   \n",
       "\n",
       "                   DBA  Years  Week Number Pickup Start Date Pickup End Date  \\\n",
       "92968              NaN   2015           29        07/12/2015      07/18/2015   \n",
       "92969              NaN   2017           42        10/15/2017      10/21/2017   \n",
       "92970  UBER-ELF-NY,LLC   2017           18        04/30/2017      05/06/2017   \n",
       "\n",
       "       Total Dispatched Trips  Unique Dispatched Vehicle  \n",
       "92968                     107                         12  \n",
       "92969                     478                         12  \n",
       "92970                   55881                       1062  "
      ]
     },
     "execution_count": 123,
     "metadata": {},
     "output_type": "execute_result"
    }
   ],
   "source": [
    "#print the last 3 lines out\n",
    "fhv.tail(3)"
   ]
  },
  {
   "cell_type": "code",
   "execution_count": 126,
   "metadata": {},
   "outputs": [
    {
     "data": {
      "text/plain": [
       "Index(['Base License Number', 'Wave Number', 'Base Name', 'DBA', 'Years',\n",
       "       'Week Number', 'Pickup Start Date', 'Pickup End Date',\n",
       "       'Total Dispatched Trips', 'Unique Dispatched Vehicle'],\n",
       "      dtype='object')"
      ]
     },
     "execution_count": 126,
     "metadata": {},
     "output_type": "execute_result"
    }
   ],
   "source": [
    "#look at the columns available\n",
    "fhv.columns"
   ]
  },
  {
   "cell_type": "code",
   "execution_count": 127,
   "metadata": {},
   "outputs": [
    {
     "data": {
      "text/plain": [
       "929710"
      ]
     },
     "execution_count": 127,
     "metadata": {},
     "output_type": "execute_result"
    }
   ],
   "source": [
    "#count how many rows\n",
    "fhv.size"
   ]
  },
  {
   "cell_type": "code",
   "execution_count": 129,
   "metadata": {},
   "outputs": [],
   "source": [
    "#select 2 columns only for plotting\n",
    "fhv_2c = fhv[['Unique Dispatched Vehicle', 'Total Dispatched Trips']]"
   ]
  },
  {
   "cell_type": "code",
   "execution_count": 130,
   "metadata": {},
   "outputs": [
    {
     "data": {
      "text/html": [
       "<div>\n",
       "<table border=\"1\" class=\"dataframe\">\n",
       "  <thead>\n",
       "    <tr style=\"text-align: right;\">\n",
       "      <th></th>\n",
       "      <th>Unique Dispatched Vehicle</th>\n",
       "      <th>Total Dispatched Trips</th>\n",
       "    </tr>\n",
       "  </thead>\n",
       "  <tbody>\n",
       "    <tr>\n",
       "      <th>0</th>\n",
       "      <td>11</td>\n",
       "      <td>205</td>\n",
       "    </tr>\n",
       "    <tr>\n",
       "      <th>1</th>\n",
       "      <td>7</td>\n",
       "      <td>319</td>\n",
       "    </tr>\n",
       "    <tr>\n",
       "      <th>2</th>\n",
       "      <td>2813</td>\n",
       "      <td>127076</td>\n",
       "    </tr>\n",
       "    <tr>\n",
       "      <th>3</th>\n",
       "      <td>21</td>\n",
       "      <td>874</td>\n",
       "    </tr>\n",
       "    <tr>\n",
       "      <th>4</th>\n",
       "      <td>2</td>\n",
       "      <td>61</td>\n",
       "    </tr>\n",
       "  </tbody>\n",
       "</table>\n",
       "</div>"
      ],
      "text/plain": [
       "   Unique Dispatched Vehicle  Total Dispatched Trips\n",
       "0                         11                     205\n",
       "1                          7                     319\n",
       "2                       2813                  127076\n",
       "3                         21                     874\n",
       "4                          2                      61"
      ]
     },
     "execution_count": 130,
     "metadata": {},
     "output_type": "execute_result"
    }
   ],
   "source": [
    "fhv_2c.head()"
   ]
  },
  {
   "cell_type": "code",
   "execution_count": 135,
   "metadata": {},
   "outputs": [
    {
     "data": {
      "text/plain": [
       "<matplotlib.axes._subplots.AxesSubplot at 0x7f819e7dfe10>"
      ]
     },
     "execution_count": 135,
     "metadata": {},
     "output_type": "execute_result"
    },
    {
     "data": {
      "image/png": "[encoded data removed]",
      "text/plain": [
       "<matplotlib.figure.Figure at 0x7f819d23b0f0>"
      ]
     },
     "metadata": {},
     "output_type": "display_data"
    }
   ],
   "source": [
    "#plot the data\n",
    "fhv_2c.plot(x=\"Unique Dispatched Vehicle\", y=\"Total Dispatched Trips\", kind='scatter')"
   ]
  },
  {
   "cell_type": "markdown",
   "metadata": {},
   "source": [
    "Taxi and Limousine commission's monthly report including weekly total dispatched trips and unique dispatched vehicles by base\n",
    "tabulated from FHV (For-higher vehicle) Trip Record submissions made by bases.\n",
    "Interestingly, the two variables appear to display a strong correlation."
   ]
  },
  {
   "cell_type": "markdown",
   "metadata": {},
   "source": [
    "<h1>Solution using API and a JSON file</h1>"
   ]
  },
  {
   "cell_type": "code",
   "execution_count": 136,
   "metadata": {},
   "outputs": [],
   "source": [
    "url = \"https://data.cityofnewyork.us/resource/edp9-qgv4.json\""
   ]
  },
  {
   "cell_type": "code",
   "execution_count": 137,
   "metadata": {},
   "outputs": [],
   "source": [
    "#read in a json file using appropriate pandas function\n",
    "df = pd.read_json(url)"
   ]
  },
  {
   "cell_type": "code",
   "execution_count": 138,
   "metadata": {},
   "outputs": [
    {
     "data": {
      "text/html": [
       "<div>\n",
       "<table border=\"1\" class=\"dataframe\">\n",
       "  <thead>\n",
       "    <tr style=\"text-align: right;\">\n",
       "      <th></th>\n",
       "      <th>base_license_number</th>\n",
       "      <th>base_name</th>\n",
       "      <th>dba</th>\n",
       "      <th>pickup_end_date</th>\n",
       "      <th>pickup_start_date</th>\n",
       "      <th>total_dispatched_trips</th>\n",
       "      <th>unique_dispatched_vehicle</th>\n",
       "      <th>wave_number</th>\n",
       "      <th>week_number</th>\n",
       "      <th>years</th>\n",
       "    </tr>\n",
       "  </thead>\n",
       "  <tbody>\n",
       "    <tr>\n",
       "      <th>0</th>\n",
       "      <td>B00552</td>\n",
       "      <td>HINO-MARU ENTERPRISES INC.</td>\n",
       "      <td>NaN</td>\n",
       "      <td>2016-04-02T00:00:00.000</td>\n",
       "      <td>2016-03-27T00:00:00.000</td>\n",
       "      <td>140</td>\n",
       "      <td>44</td>\n",
       "      <td>3</td>\n",
       "      <td>14</td>\n",
       "      <td>2016</td>\n",
       "    </tr>\n",
       "    <tr>\n",
       "      <th>1</th>\n",
       "      <td>B02308</td>\n",
       "      <td>NORWOOD CAR &amp; LIMO INC.</td>\n",
       "      <td>NaN</td>\n",
       "      <td>2015-12-05T00:00:00.000</td>\n",
       "      <td>2015-11-29T00:00:00.000</td>\n",
       "      <td>230</td>\n",
       "      <td>23</td>\n",
       "      <td>3</td>\n",
       "      <td>49</td>\n",
       "      <td>2015</td>\n",
       "    </tr>\n",
       "    <tr>\n",
       "      <th>2</th>\n",
       "      <td>B02021</td>\n",
       "      <td>EASYRIDE CAR SERVICE INC.</td>\n",
       "      <td>NaN</td>\n",
       "      <td>2016-12-31T00:00:00.000</td>\n",
       "      <td>2016-12-25T00:00:00.000</td>\n",
       "      <td>310</td>\n",
       "      <td>5</td>\n",
       "      <td>3</td>\n",
       "      <td>53</td>\n",
       "      <td>2016</td>\n",
       "    </tr>\n",
       "    <tr>\n",
       "      <th>3</th>\n",
       "      <td>B01197</td>\n",
       "      <td>TEL-A-CAR OF NEW YORK, LLC</td>\n",
       "      <td>NaN</td>\n",
       "      <td>2016-03-12T00:00:00.000</td>\n",
       "      <td>2016-03-06T00:00:00.000</td>\n",
       "      <td>1456</td>\n",
       "      <td>97</td>\n",
       "      <td>1</td>\n",
       "      <td>11</td>\n",
       "      <td>2016</td>\n",
       "    </tr>\n",
       "    <tr>\n",
       "      <th>4</th>\n",
       "      <td>B01146</td>\n",
       "      <td>CHURCH AVE C/S INC</td>\n",
       "      <td>NaN</td>\n",
       "      <td>2017-06-10T00:00:00.000</td>\n",
       "      <td>2017-06-04T00:00:00.000</td>\n",
       "      <td>2812</td>\n",
       "      <td>40</td>\n",
       "      <td>2</td>\n",
       "      <td>23</td>\n",
       "      <td>2017</td>\n",
       "    </tr>\n",
       "    <tr>\n",
       "      <th>5</th>\n",
       "      <td>B02155</td>\n",
       "      <td>ABA LUXURY CAR INC.</td>\n",
       "      <td>NaN</td>\n",
       "      <td>2015-12-19T00:00:00.000</td>\n",
       "      <td>2015-12-13T00:00:00.000</td>\n",
       "      <td>167</td>\n",
       "      <td>35</td>\n",
       "      <td>3</td>\n",
       "      <td>51</td>\n",
       "      <td>2015</td>\n",
       "    </tr>\n",
       "    <tr>\n",
       "      <th>6</th>\n",
       "      <td>B00556</td>\n",
       "      <td>SURREY CADILLAC LIMO SVC INC</td>\n",
       "      <td>NaN</td>\n",
       "      <td>2016-03-26T00:00:00.000</td>\n",
       "      <td>2016-03-20T00:00:00.000</td>\n",
       "      <td>163</td>\n",
       "      <td>21</td>\n",
       "      <td>3</td>\n",
       "      <td>13</td>\n",
       "      <td>2016</td>\n",
       "    </tr>\n",
       "    <tr>\n",
       "      <th>7</th>\n",
       "      <td>B02617</td>\n",
       "      <td>WEITER LLC</td>\n",
       "      <td>UBER-WEITER LLC</td>\n",
       "      <td>2015-08-08T00:00:00.000</td>\n",
       "      <td>2015-08-02T00:00:00.000</td>\n",
       "      <td>63664</td>\n",
       "      <td>1591</td>\n",
       "      <td>1</td>\n",
       "      <td>32</td>\n",
       "      <td>2015</td>\n",
       "    </tr>\n",
       "  </tbody>\n",
       "</table>\n",
       "</div>"
      ],
      "text/plain": [
       "  base_license_number                     base_name              dba  \\\n",
       "0              B00552    HINO-MARU ENTERPRISES INC.              NaN   \n",
       "1              B02308       NORWOOD CAR & LIMO INC.              NaN   \n",
       "2              B02021     EASYRIDE CAR SERVICE INC.              NaN   \n",
       "3              B01197    TEL-A-CAR OF NEW YORK, LLC              NaN   \n",
       "4              B01146            CHURCH AVE C/S INC              NaN   \n",
       "5              B02155           ABA LUXURY CAR INC.              NaN   \n",
       "6              B00556  SURREY CADILLAC LIMO SVC INC              NaN   \n",
       "7              B02617                    WEITER LLC  UBER-WEITER LLC   \n",
       "\n",
       "           pickup_end_date        pickup_start_date  total_dispatched_trips  \\\n",
       "0  2016-04-02T00:00:00.000  2016-03-27T00:00:00.000                     140   \n",
       "1  2015-12-05T00:00:00.000  2015-11-29T00:00:00.000                     230   \n",
       "2  2016-12-31T00:00:00.000  2016-12-25T00:00:00.000                     310   \n",
       "3  2016-03-12T00:00:00.000  2016-03-06T00:00:00.000                    1456   \n",
       "4  2017-06-10T00:00:00.000  2017-06-04T00:00:00.000                    2812   \n",
       "5  2015-12-19T00:00:00.000  2015-12-13T00:00:00.000                     167   \n",
       "6  2016-03-26T00:00:00.000  2016-03-20T00:00:00.000                     163   \n",
       "7  2015-08-08T00:00:00.000  2015-08-02T00:00:00.000                   63664   \n",
       "\n",
       "   unique_dispatched_vehicle  wave_number  week_number  years  \n",
       "0                         44            3           14   2016  \n",
       "1                         23            3           49   2015  \n",
       "2                          5            3           53   2016  \n",
       "3                         97            1           11   2016  \n",
       "4                         40            2           23   2017  \n",
       "5                         35            3           51   2015  \n",
       "6                         21            3           13   2016  \n",
       "7                       1591            1           32   2015  "
      ]
     },
     "execution_count": 138,
     "metadata": {},
     "output_type": "execute_result"
    }
   ],
   "source": [
    "#print first 8 lines\n",
    "df.head(8)"
   ]
  },
  {
   "cell_type": "code",
   "execution_count": 139,
   "metadata": {},
   "outputs": [],
   "source": [
    "#selecting a date and the two variables\n",
    "fhv_3c = df[['pickup_start_date', 'unique_dispatched_vehicle', 'total_dispatched_trips']]"
   ]
  },
  {
   "cell_type": "markdown",
   "metadata": {},
   "source": [
    "For consistency with the data above, let's change the names of the columns (variables) to be the same as before. "
   ]
  },
  {
   "cell_type": "code",
   "execution_count": 140,
   "metadata": {
    "scrolled": true
   },
   "outputs": [
    {
     "name": "stderr",
     "output_type": "stream",
     "text": [
      "/usr/local/Anaconda3-5.0.0-Linux-x86_64/envs/PUI2016_Python3/lib/python3.5/site-packages/pandas/core/frame.py:2754: SettingWithCopyWarning: \n",
      "A value is trying to be set on a copy of a slice from a DataFrame\n",
      "\n",
      "See the caveats in the documentation: http://pandas.pydata.org/pandas-docs/stable/indexing.html#indexing-view-versus-copy\n",
      "  **kwargs)\n"
     ]
    }
   ],
   "source": [
    "fhv_3c.rename(columns = {'pickup_start_date':'Pickup Start Date', \n",
    "               'unique_dispatched_vehicle':'Unique Dispatched Vehicle', \n",
    "               'total_dispatched_trips': 'Total Dispatched Trips'}, inplace=True)"
   ]
  },
  {
   "cell_type": "code",
   "execution_count": 141,
   "metadata": {},
   "outputs": [
    {
     "data": {
      "image/png": "[encoded data removed]",
      "text/plain": [
       "<matplotlib.figure.Figure at 0x7f819cba7c50>"
      ]
     },
     "metadata": {},
     "output_type": "display_data"
    }
   ],
   "source": [
    "ax = fhv_3c.plot(x='Pickup Start Date', y='Unique Dispatched Vehicle');\n",
    "ax.set_ylabel(\"Number\");"
   ]
  },
  {
   "cell_type": "markdown",
   "metadata": {},
   "source": [
    "Let's take care of the formatting of those dates"
   ]
  },
  {
   "cell_type": "code",
   "execution_count": 142,
   "metadata": {},
   "outputs": [
    {
     "name": "stderr",
     "output_type": "stream",
     "text": [
      "/usr/local/Anaconda3-5.0.0-Linux-x86_64/envs/PUI2016_Python3/lib/python3.5/site-packages/ipykernel/__main__.py:1: SettingWithCopyWarning: \n",
      "A value is trying to be set on a copy of a slice from a DataFrame.\n",
      "Try using .loc[row_indexer,col_indexer] = value instead\n",
      "\n",
      "See the caveats in the documentation: http://pandas.pydata.org/pandas-docs/stable/indexing.html#indexing-view-versus-copy\n",
      "  if __name__ == '__main__':\n"
     ]
    }
   ],
   "source": [
    "fhv_3c[\"Pickup Start Date\"] = fhv_3c[\"Pickup Start Date\"].apply(lambda x: pd.Timestamp(x))"
   ]
  },
  {
   "cell_type": "code",
   "execution_count": 145,
   "metadata": {},
   "outputs": [
    {
     "data": {
      "image/png": "[encoded data removed]",
      "text/plain": [
       "<matplotlib.figure.Figure at 0x7f819e909748>"
      ]
     },
     "metadata": {},
     "output_type": "display_data"
    }
   ],
   "source": [
    "ax = fhv_3c.plot(x='Pickup Start Date', y='Unique Dispatched Vehicle', rot=90)\n",
    "ax.set_ylabel(\"Number\");"
   ]
  },
  {
   "cell_type": "markdown",
   "metadata": {},
   "source": []
  },
  {
   "cell_type": "code",
   "execution_count": 146,
   "metadata": {},
   "outputs": [
    {
     "data": {
      "image/png": "[encoded data removed]",
      "text/plain": [
       "<matplotlib.figure.Figure at 0x7f819e981358>"
      ]
     },
     "metadata": {},
     "output_type": "display_data"
    }
   ],
   "source": [
    "#plot the other columns\n",
    "ax = fhv_3c.plot(x='Pickup Start Date', y='Total Dispatched Trips', rot=90)\n",
    "ax.set_ylabel(\"Number\");"
   ]
  },
  {
   "cell_type": "code",
   "execution_count": null,
   "metadata": {},
   "outputs": [],
   "source": []
  }
 ],
 "metadata": {
  "kernelspec": {
   "display_name": "PUI2016_Python3",
   "language": "python",
   "name": "pui2016_python3"
  },
  "language_info": {
   "codemirror_mode": {
    "name": "ipython",
    "version": 3
   },
   "file_extension": ".py",
   "mimetype": "text/x-python",
   "name": "python",
   "nbconvert_exporter": "python",
   "pygments_lexer": "ipython3",
   "version": "3.5.4"
  }
 },
 "nbformat": 4,
 "nbformat_minor": 2
}
