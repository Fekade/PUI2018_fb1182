{
 "cells": [
  {
   "cell_type": "markdown",
   "metadata": {},
   "source": [
    "IDEA: Is the new Bus route improving commute ?\n",
    "\n",
    "NULL HYPOTHESIS:\n",
    "\n",
    "_$H_0$  : The commute time is on average the same or longer with the new bus route as it was before: \n",
    "  \n",
    "_$H_1$   :   the commute time is shorter with the new bus route han it was before: Tnew < Told\n",
    "\n",
    "Told ~ N(µ=36, σ=6)\n",
    "x = mean(Tnew) = 34.5\n",
    "\n",
    "We will use a significance level  α=0.05\n",
    "\n",
    "we can't go farther than 2 sigmas away from the old mean => so after calculating the z-score \n",
    "\n",
    "Z = (x – μ) / σ/\n",
    "\n",
    "reject NULL (this is a Z-test)"
   ]
  },
  {
   "cell_type": "code",
   "execution_count": null,
   "metadata": {},
   "outputs": [],
   "source": []
  }
 ],
 "metadata": {
  "kernelspec": {
   "display_name": "PUI2016_Python3",
   "language": "python",
   "name": "pui2016_python3"
  },
  "language_info": {
   "codemirror_mode": {
    "name": "ipython",
    "version": 3
   },
   "file_extension": ".py",
   "mimetype": "text/x-python",
   "name": "python",
   "nbconvert_exporter": "python",
   "pygments_lexer": "ipython3",
   "version": "3.5.4"
  }
 },
 "nbformat": 4,
 "nbformat_minor": 2
}
